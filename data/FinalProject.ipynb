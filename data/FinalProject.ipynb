{
 "metadata": {
  "name": "",
  "signature": "sha256:9d7796125faed7237a304a464a52e805993eddd179a9dd16d8ecce2302d6d59f"
 },
 "nbformat": 3,
 "nbformat_minor": 0,
 "worksheets": [
  {
   "cells": [
    {
     "cell_type": "heading",
     "level": 2,
     "metadata": {},
     "source": [
      "Project Title: Machine Learning in Python Using Publicly Available Datasets."
     ]
    },
    {
     "cell_type": "markdown",
     "metadata": {},
     "source": [
      "Introduction\n",
      "The availability of easily obtained datasets, with the decrease in computing and storage cost has led to a massive explosion of data. Obtaining relevant information out of this data is still a challenge which gets hard and hard is the size, scope and complexities of these datasets increase. Machine Learning (ML) (unsupervised, semi-supervised or supervised) is now thought to be a solution to this crises as it allows the use of computers to investigate datasets and then self-develop parameters or attributes that allow predictions of outcome based on training datasets. ML can be used for Forecasting, Anomaly Detection, Classification, Decision Making, Summarizing and Ranking (Machine learning - introduction, 2013). "
     ]
    },
    {
     "cell_type": "raw",
     "metadata": {},
     "source": [
      "1. Project Scope\n",
      "This project comprises of a program created in Python to demonstrate the Machine Learning tools that are available and their use. This project does not seek to demonstrate all the available tool sets that are available, but a subset of tools that can be used to perform simple Machine Learning in Python "
     ]
    },
    {
     "cell_type": "raw",
     "metadata": {},
     "source": [
      "2. Program Functions\n",
      "The software program will be built using Python and will allow the selection of a publically available datasets and carry out different Machine Learning Algorithms on the dataset using the training set. Following this training the live dataset will be tested on the algorithm and a visualization of how good (or bad) the different algorithms performed will be shown "
     ]
    },
    {
     "cell_type": "raw",
     "metadata": {},
     "source": [
      "3. Interface\n",
      "The interface for this demonstration program will be minimal and will only allow the user to select a predefined file which would contain the dataset of interest. The program will then run the different ML algorithms and output the visualizations."
     ]
    },
    {
     "cell_type": "raw",
     "metadata": {},
     "source": [
      "4. Data Structures /Elements \n",
      "The dataset that will be used for this demonstration project will be obtained from the UCI Machine Learning Repository [http://archive.ics.uci.edu/ml]. Irvine, CA: University of California, School of Information and Computer Science. http://archive.ics.uci.edu/ml/, which contains datasets publicly available for use in Machine Leaning. For the purpose of this demonstration, Classification using K nearest neighbor, Support Vector Machines, Gaussian Processes, and Neural Networks will be used and outcomes will be measured using Validation and Training Curves in addition to other indices (error rate, etc.). "
     ]
    },
    {
     "cell_type": "raw",
     "metadata": {},
     "source": [
      "5. Operating Environment, Software, Dependencies\n",
      "The project program will be built using Python on a Windows 64 bit computer, however, it should be possible to run the software on any operating system that has Python Installed. The project will make use of the \u201cscikit-learn package\u201d (http://scikit-learn.org/stable/index.html), which allows Machine Learning in Python. This package is built on numpy, scipy, and matplotlib, which are all available pre-installed as part of the Anaconda IDE (https://store.continuum.io/cshop/anaconda/) "
     ]
    },
    {
     "cell_type": "raw",
     "metadata": {},
     "source": [
      "6. Design and Implementation Constraints\n",
      "The project program is a demonstration of Machine Language and is not meant to encompass the entire universe of possible Machine Language algorithms or even available packages. This particular project will only focus on Classification and not on other methods of Machine Learning. Time constrains also limit the amount of customization and specification that can be developed into this project. "
     ]
    },
    {
     "cell_type": "raw",
     "metadata": {},
     "source": [
      "7. Summary \n",
      "This software project is designed to demonstrate the ability of performing Machine Leaning using Python with the use of publicly available datasets, and commonly used Python Libraries (packages). This would serve as an introduction to the myriad functionality that is available in Python for Machine Learning."
     ]
    },
    {
     "cell_type": "heading",
     "level": 6,
     "metadata": {},
     "source": [
      "Data Set"
     ]
    },
    {
     "cell_type": "raw",
     "metadata": {},
     "source": [
      "The data set for this project Breast Cancer Wisconsin (Diagnostic) Data set was obtained from the UIC Machine Learning Repository:\n",
      "https://archive.ics.uci.edu/ml/datasets/Breast+Cancer+Wisconsin+%28Diagnostic%29\n",
      "\n",
      "This data set consists of 569 patient observations with data characteristis of Maltivariate and 32 attributes:\n",
      "\n",
      "Attribute Information:\n",
      "\n",
      "1) ID number\n",
      "2) Diagnosis (M = malignant, B = benign)\n",
      "3-32)\n",
      "\n",
      "Ten real-valued features are computed for each cell nucleus:\n",
      "\n",
      "a) radius (mean of distances from center to points on the perimeter)\n",
      "b) texture (standard deviation of gray-scale values)\n",
      "c) perimeter\n",
      "d) area\n",
      "e) smoothness (local variation in radius lengths)\n",
      "f) compactness (perimeter^2 / area - 1.0)\n",
      "g) concavity (severity of concave portions of the contour)\n",
      "h) concave points (number of concave portions of the contour)\n",
      "i) symmetry\n",
      "j) fractal dimension (\"coastline approximation\" - 1)\n",
      "\n",
      "    "
     ]
    },
    {
     "cell_type": "code",
     "collapsed": false,
     "input": [
      "import matplotlib.pyplot as plt\n",
      "%matplotlib inline\n",
      "plt.rcParams['figure.figsize'] = 18, 12\n",
      "import pandas as pd\n",
      "import numpy as np\n",
      "from sklearn import neighbors\n",
      "from sklearn.cross_validation import KFold\n",
      "from sklearn import tree\n",
      "from sklearn.tree import DecisionTreeClassifier\n",
      "from sklearn.cross_validation import train_test_split\n",
      "from sklearn.metrics import classification_report\n",
      "from sklearn.pipeline import Pipeline\n",
      "from sklearn.grid_search import GridSearchCV\n",
      "from sklearn.ensemble import RandomForestClassifier\n",
      "from sklearn import gaussian_process\n",
      "from sklearn.metrics import confusion_matrix\n",
      "from sklearn.preprocessing import StandardScaler\n",
      "from sklearn import linear_model\n",
      "import os\n",
      "import StringIO\n"
     ],
     "language": "python",
     "metadata": {},
     "outputs": [],
     "prompt_number": 458
    },
    {
     "cell_type": "markdown",
     "metadata": {},
     "source": [
      "Data for machine learning stored in GitHub"
     ]
    },
    {
     "cell_type": "code",
     "collapsed": false,
     "input": [
      "fpath = \"https://raw.githubusercontent.com/jwindokun/FinalProject/master/data/wdbc.data\""
     ],
     "language": "python",
     "metadata": {},
     "outputs": [],
     "prompt_number": 459
    },
    {
     "cell_type": "code",
     "collapsed": false,
     "input": [
      "df = pd.read_csv(fpath, header=None)\n",
      "\n",
      "\n",
      "print (\"*****************************************************\\n\")\n",
      "print (\"Data:\\n\")\n",
      "print (df.head(5))\n",
      "# The first column '0' stores the patient identifier which we discard\n",
      "# The second column stores the labels of the response while columns 2 to 32 stores the variables that determine the response\n",
      "response_variable_column = df[:][1]\n",
      "explanatory_variable_columns = set(df.columns.values[:][2:32])\n",
      "\n",
      "# The response variable M stands for Malignant and this will be coded as 1\n",
      "y = [1 if e == 'M' else 0 for e in response_variable_column]\n",
      "target_names = ['benign','malignant']\n",
      "X = df[list(explanatory_variable_columns)]\n",
      "\n",
      "\n"
     ],
     "language": "python",
     "metadata": {},
     "outputs": [
      {
       "output_type": "stream",
       "stream": "stdout",
       "text": [
        "*****************************************************\n",
        "\n",
        "Data:\n",
        "\n",
        "         0  1      2      3       4       5        6        7       8   \\\n",
        "0    842302  M  17.99  10.38  122.80  1001.0  0.11840  0.27760  0.3001   \n",
        "1    842517  M  20.57  17.77  132.90  1326.0  0.08474  0.07864  0.0869   \n",
        "2  84300903  M  19.69  21.25  130.00  1203.0  0.10960  0.15990  0.1974   \n",
        "3  84348301  M  11.42  20.38   77.58   386.1  0.14250  0.28390  0.2414   \n",
        "4  84358402  M  20.29  14.34  135.10  1297.0  0.10030  0.13280  0.1980   \n",
        "\n",
        "        9    ...        22     23      24      25      26      27      28  \\\n",
        "0  0.14710   ...     25.38  17.33  184.60  2019.0  0.1622  0.6656  0.7119   \n",
        "1  0.07017   ...     24.99  23.41  158.80  1956.0  0.1238  0.1866  0.2416   \n",
        "2  0.12790   ...     23.57  25.53  152.50  1709.0  0.1444  0.4245  0.4504   \n",
        "3  0.10520   ...     14.91  26.50   98.87   567.7  0.2098  0.8663  0.6869   \n",
        "4  0.10430   ...     22.54  16.67  152.20  1575.0  0.1374  0.2050  0.4000   \n",
        "\n",
        "       29      30       31  \n",
        "0  0.2654  0.4601  0.11890  \n",
        "1  0.1860  0.2750  0.08902  \n",
        "2  0.2430  0.3613  0.08758  \n",
        "3  0.2575  0.6638  0.17300  \n",
        "4  0.1625  0.2364  0.07678  \n",
        "\n",
        "[5 rows x 32 columns]\n"
       ]
      }
     ],
     "prompt_number": 460
    },
    {
     "cell_type": "code",
     "collapsed": false,
     "input": [
      "#We then split the data into training and test sets:\n",
      "X_train, X_test, y_train, y_test = train_test_split(X, y)\n",
      "\n",
      "y_count = np.array(y_test)\n",
      "print \"Number of 1's = Malignant:\", y_count.sum()\n",
      "print \"Number of 0's = Benign:\", len(y_count)- y_count.sum()\n",
      "print 'Total Number of Obeservations:', len(y_count)"
     ],
     "language": "python",
     "metadata": {},
     "outputs": [
      {
       "output_type": "stream",
       "stream": "stdout",
       "text": [
        "Number of 1's = Malignant: 51\n",
        "Number of 0's = Benign: 92\n",
        "Total Number of Obeservations: 143\n"
       ]
      }
     ],
     "prompt_number": 461
    },
    {
     "cell_type": "heading",
     "level": 6,
     "metadata": {},
     "source": [
      "Decision Tree Classifier"
     ]
    },
    {
     "cell_type": "markdown",
     "metadata": {},
     "source": [
      "This is a simple decision tree classifier"
     ]
    },
    {
     "cell_type": "code",
     "collapsed": false,
     "input": [
      "clf = tree.DecisionTreeClassifier()\n",
      "clf = clf.fit(X_train, y_train)\n",
      "y_pred = clf.predict(X_test)    "
     ],
     "language": "python",
     "metadata": {},
     "outputs": [],
     "prompt_number": 462
    },
    {
     "cell_type": "code",
     "collapsed": false,
     "input": [
      "print (\"*****************************************************\\n\")\n",
      "print (\"Classification Report - Decision Tree\\n\")\n",
      "print classification_report(y_test, y_pred, target_names = target_names)\n",
      "print (\"Confusion Matrix Report - Decision Tree\\n\")\n",
      "print confusion_matrix(y_test, y_pred)  \n"
     ],
     "language": "python",
     "metadata": {},
     "outputs": [
      {
       "output_type": "stream",
       "stream": "stdout",
       "text": [
        "*****************************************************\n",
        "\n",
        "Classification Report - Decision Tree\n",
        "\n",
        "             precision    recall  f1-score   support\n",
        "\n",
        "     benign       0.92      0.93      0.93        92\n",
        "  malignant       0.88      0.86      0.87        51\n",
        "\n",
        "avg / total       0.91      0.91      0.91       143\n",
        "\n",
        "Confusion Matrix Report - Decision Tree\n",
        "\n",
        "[[86  6]\n",
        " [ 7 44]]\n"
       ]
      }
     ],
     "prompt_number": 463
    },
    {
     "cell_type": "code",
     "collapsed": false,
     "input": [
      "print (\"*****************************************************\\n\")\n",
      "print (\"Scatter Plot - Predicted vs Actual, Decision Tree\\n\")\n",
      "x = np.linspace (0,len(y_test), len(y_test))\n",
      "plt.scatter(x, (y_pred - y_test), c = 'r')\n",
      "plt.show()"
     ],
     "language": "python",
     "metadata": {},
     "outputs": [
      {
       "output_type": "stream",
       "stream": "stdout",
       "text": [
        "*****************************************************\n",
        "\n",
        "Scatter Plot - Predicted vs Actual, Decision Tree\n",
        "\n"
       ]
      },
      {
       "metadata": {},
       "output_type": "display_data",
       "png": "[encoded data removed]",
       "text": [
        "<matplotlib.figure.Figure at 0x1ab98a58>"
       ]
      }
     ],
     "prompt_number": 464
    },
    {
     "cell_type": "code",
     "collapsed": false,
     "input": [
      "#dot_data = StringIO.StringIO()\n",
      "#tree.export_graphviz(clf, out_file = dot_data) \n",
      "#graph = pydot.graph_from_dot_data(dot_data.getvalue())\n",
      "#graph.write_pdf(\"wdbc.png\") \n",
      "print (\"*****************************************************\\n\")\n",
      "print (\"Decision Tree\\n\")\n",
      "from IPython.core.display import Image\n",
      "fname = \"https://raw.githubusercontent.com/jwindokun/FinalProject/master/data/decisionTree.png\"\n",
      "Image(url = fname)"
     ],
     "language": "python",
     "metadata": {},
     "outputs": [
      {
       "output_type": "stream",
       "stream": "stdout",
       "text": [
        "*****************************************************\n",
        "\n",
        "Decision Tree\n",
        "\n"
       ]
      },
      {
       "html": [
        "<img src=\"https://raw.githubusercontent.com/jwindokun/FinalProject/master/data/decisionTree.png\"/>"
       ],
       "metadata": {},
       "output_type": "pyout",
       "prompt_number": 465,
       "text": [
        "<IPython.core.display.Image at 0x1ab22b70>"
       ]
      }
     ],
     "prompt_number": 465
    },
    {
     "cell_type": "code",
     "collapsed": false,
     "input": [
      "pipeline = Pipeline([('clf', DecisionTreeClassifier(criterion='entropy'))])\n",
      "    #Next, we specified the hyperparameter space for the grid search:\n",
      "parameters = {'clf__max_depth': (150, 155, 160), 'clf__min_samples_split': (1, 2, 3), 'clf__min_samples_leaf': (1, 2, 3)}\n",
      "\n",
      "grid_search = GridSearchCV(pipeline, parameters, n_jobs=-1,\n",
      "verbose=1, scoring='f1')\n",
      "grid_search.fit(X_train, y_train)\n",
      "print 'Best score: %0.3f' % grid_search.best_score_\n",
      "print 'Best parameters set:'\n",
      "best_parameters = grid_search.best_estimator_.get_params()\n",
      "for param_name in sorted(parameters.keys()):\n",
      "    print '\\t%s: %r' % (param_name, best_parameters[param_name])\n",
      "y_pred = grid_search.predict(X_test)\n",
      "print (\"*****************************************************\\n\")\n",
      "print (\"Classification Report - Decision Tree Classifier (criterion='entropy')\\n\")\n",
      "print classification_report(y_test, y_pred, target_names = target_names)\n",
      "print (\"Confusion Matrix Report - Decision Tree Classifier\\n\")\n",
      "print confusion_matrix(y_test, y_pred) \n",
      "    \n",
      "x = np.linspace (0,len(y_test), len(y_test))\n",
      "plt.scatter(x, (y_pred - y_test))\n",
      "plt.show()\n",
      "\n"
     ],
     "language": "python",
     "metadata": {},
     "outputs": [
      {
       "output_type": "stream",
       "stream": "stderr",
       "text": [
        "[Parallel(n_jobs=-1)]: Done   1 jobs       | elapsed:    0.4s\n",
        "[Parallel(n_jobs=-1)]: Done  50 jobs       | elapsed:    1.8s\n",
        "[Parallel(n_jobs=-1)]: Done  67 out of  81 | elapsed:    1.8s remaining:    0.3s\n",
        "[Parallel(n_jobs=-1)]: Done  81 out of  81 | elapsed:    1.9s finished\n"
       ]
      },
      {
       "output_type": "stream",
       "stream": "stdout",
       "text": [
        "Fitting 3 folds for each of 27 candidates, totalling 81 fits\n",
        "Best score: 0.891"
       ]
      },
      {
       "output_type": "stream",
       "stream": "stdout",
       "text": [
        "\n",
        "Best parameters set:\n",
        "\tclf__max_depth: 150\n",
        "\tclf__min_samples_leaf: 2\n",
        "\tclf__min_samples_split: 2\n",
        "*****************************************************\n",
        "\n",
        "Classification Report - Decision Tree Classifier (criterion='entropy')\n",
        "\n",
        "             precision    recall  f1-score   support\n",
        "\n",
        "     benign       0.93      0.93      0.93        92\n",
        "  malignant       0.88      0.88      0.88        51\n",
        "\n",
        "avg / total       0.92      0.92      0.92       143\n",
        "\n",
        "Confusion Matrix Report - Decision Tree Classifier\n",
        "\n",
        "[[86  6]\n",
        " [ 6 45]]\n"
       ]
      },
      {
       "metadata": {},
       "output_type": "display_data",
       "png": "[encoded data removed]",
       "text": [
        "<matplotlib.figure.Figure at 0x16609d68>"
       ]
      }
     ],
     "prompt_number": 466
    },
    {
     "cell_type": "heading",
     "level": 6,
     "metadata": {},
     "source": [
      "Random Forest Classifier"
     ]
    },
    {
     "cell_type": "code",
     "collapsed": false,
     "input": [
      "\n",
      "pipeline = Pipeline([ ('clf', RandomForestClassifier(criterion='gini'))])\n",
      "parameters = {'clf__n_estimators': (5, 10, 20, 50),'clf__max_depth': (50, 150, 250),'clf__min_samples_split': (1, 2, 3),'clf__min_samples_leaf': (1, 2, 3)}\n",
      "\n",
      "grid_search = GridSearchCV(pipeline, parameters, n_jobs=-1, verbose=1, scoring='f1')\n",
      "grid_search.fit(X_train, y_train)\n",
      "print 'Best score: %0.3f' % grid_search.best_score_\n",
      "print 'Best parameters set:'\n",
      "best_parameters = grid_search.best_estimator_.get_params()\n",
      "for param_name in sorted(parameters.keys()):\n",
      "    print '\\t%s: %r' % (param_name, best_parameters[param_name])\n",
      "    y_pred = grid_search.predict(X_test)\n"
     ],
     "language": "python",
     "metadata": {},
     "outputs": [
      {
       "output_type": "stream",
       "stream": "stderr",
       "text": [
        "[Parallel(n_jobs=-1)]: Done   1 jobs       | elapsed:    0.3s\n",
        "[Parallel(n_jobs=-1)]: Done  50 jobs       | elapsed:    2.0s\n",
        "[Parallel(n_jobs=-1)]: Done 200 jobs       | elapsed:    2.6s\n",
        "[Parallel(n_jobs=-1)]: Done 310 out of 324 | elapsed:    3.1s remaining:    0.0s\n",
        "[Parallel(n_jobs=-1)]: Done 324 out of 324 | elapsed:    3.1s finished\n"
       ]
      },
      {
       "output_type": "stream",
       "stream": "stdout",
       "text": [
        "Fitting 3 folds for each of 108 candidates, totalling 324 fits\n",
        "Best score: 0.953"
       ]
      },
      {
       "output_type": "stream",
       "stream": "stdout",
       "text": [
        "\n",
        "Best parameters set:\n",
        "\tclf__max_depth: 250\n",
        "\tclf__min_samples_leaf: 2\n",
        "\tclf__min_samples_split: 2\n",
        "\tclf__n_estimators: 5\n"
       ]
      }
     ],
     "prompt_number": 467
    },
    {
     "cell_type": "code",
     "collapsed": false,
     "input": [
      "print (\"*****************************************************\\n\")\n",
      "print (\"Classification Report - Random Forest Classifier(criterion='gini'))\\n\")\n",
      "print classification_report(y_test, y_pred, target_names = target_names)\n",
      "print (\"Confusion Matrix Report - Random Forest Classifier\\n\")\n",
      "print confusion_matrix(y_test, y_pred) "
     ],
     "language": "python",
     "metadata": {},
     "outputs": [
      {
       "output_type": "stream",
       "stream": "stdout",
       "text": [
        "*****************************************************\n",
        "\n",
        "Classification Report - Random Forest Classifier(criterion='gini'))\n",
        "\n",
        "             precision    recall  f1-score   support\n",
        "\n",
        "     benign       0.99      0.97      0.98        92\n",
        "  malignant       0.94      0.98      0.96        51\n",
        "\n",
        "avg / total       0.97      0.97      0.97       143\n",
        "\n",
        "Confusion Matrix Report - Random Forest Classifier\n",
        "\n",
        "[[89  3]\n",
        " [ 1 50]]\n"
       ]
      }
     ],
     "prompt_number": 468
    },
    {
     "cell_type": "code",
     "collapsed": false,
     "input": [
      "labels = ['malignant', 'benign']\n",
      "cm = confusion_matrix(y_test, y_pred)\n",
      "#print(cm)\n",
      "fig = plt.figure()\n",
      "ax = fig.add_subplot(111)\n",
      "cax = ax.matshow(cm)\n",
      "plt.title('Confusion matrix of the classifier')\n",
      "fig.colorbar(cax)\n",
      "ax.set_xticklabels([''] + labels)\n",
      "ax.set_yticklabels([''] + labels)\n",
      "plt.xlabel('Predicted')\n",
      "plt.ylabel('True')\n",
      "plt.show()\n",
      "\n"
     ],
     "language": "python",
     "metadata": {},
     "outputs": [
      {
       "metadata": {},
       "output_type": "display_data",
       "png": "[encoded data removed]",
       "text": [
        "<matplotlib.figure.Figure at 0x1642f828>"
       ]
      }
     ],
     "prompt_number": 469
    },
    {
     "cell_type": "code",
     "collapsed": false,
     "input": [
      "print (\"*****************************************************\\n\")\n",
      "print (\"Scatter Plot - Predicted vs Actual, Random Forests\\n\")\n",
      "x = np.linspace (0,len(y_test), len(y_test))\n",
      "results_p = np.array(predictions)\n",
      "y_test = np.array(y_test)\n",
      "plt.scatter(x, (y_pred - y_test))\n",
      "\n",
      "plt.show()"
     ],
     "language": "python",
     "metadata": {},
     "outputs": [
      {
       "output_type": "stream",
       "stream": "stdout",
       "text": [
        "*****************************************************\n",
        "\n",
        "Scatter Plot - Predicted vs Actual, Random Forests\n",
        "\n"
       ]
      },
      {
       "metadata": {},
       "output_type": "display_data",
       "png": "[encoded data removed]",
       "text": [
        "<matplotlib.figure.Figure at 0x165327f0>"
       ]
      }
     ],
     "prompt_number": 470
    },
    {
     "cell_type": "code",
     "collapsed": false,
     "input": [
      "knn = neighbors.KNeighborsClassifier(n_neighbors =2)\n",
      "knn.fit(X_train, y_train)\n",
      "y_pred = knn.predict(X_test)\n",
      "#print (\"Probability = :\", knn.predict_proba(X_test))\n",
      "x = np.linspace (0,len(y_test), len(y_test))\n",
      "print (\"*****************************************************\\n\")\n",
      "print (\"Classification Report KNeighbors Classifier\\n\")\n",
      "print classification_report(y_test, y_pred, target_names = target_names)\n",
      "print (\"Confusion Matrix Report - KNeighbors Classifier\\n\")\n",
      "print confusion_matrix(y_test, y_pred) \n",
      "y_pred = np.array(y_pred)\n",
      "y_test = np.array(y_test)\n",
      "plt.scatter(x, (y_pred - y_test))\n",
      "plt.show()\n",
      "\n",
      "\n",
      "\n"
     ],
     "language": "python",
     "metadata": {},
     "outputs": [
      {
       "output_type": "stream",
       "stream": "stdout",
       "text": [
        "*****************************************************\n",
        "\n",
        "Classification Report KNeighbors Classifier\n",
        "\n",
        "             precision    recall  f1-score   support\n",
        "\n",
        "     benign       0.88      0.98      0.93        92\n",
        "  malignant       0.95      0.76      0.85        51\n",
        "\n",
        "avg / total       0.91      0.90      0.90       143\n",
        "\n",
        "Confusion Matrix Report - KNeighbors Classifier\n",
        "\n",
        "[[90  2]\n",
        " [12 39]]\n"
       ]
      },
      {
       "metadata": {},
       "output_type": "display_data",
       "png": "[encoded data removed]",
       "text": [
        "<matplotlib.figure.Figure at 0x1a66c240>"
       ]
      }
     ],
     "prompt_number": 471
    },
    {
     "cell_type": "code",
     "collapsed": false,
     "input": [
      "labels = ['malignant', 'benign']\n",
      "cm = confusion_matrix(y_test, y_pred)\n",
      "print(cm)\n",
      "fig = plt.figure()\n",
      "ax = fig.add_subplot(111)\n",
      "cax = ax.matshow(cm)\n",
      "plt.title('Confusion matrix of the classifier')\n",
      "fig.colorbar(cax)\n",
      "ax.set_xticklabels([''] + labels)\n",
      "ax.set_yticklabels([''] + labels)\n",
      "plt.xlabel('Predicted')\n",
      "plt.ylabel('True')\n",
      "plt.show()\n",
      "\n",
      "\n",
      "\n",
      "\n"
     ],
     "language": "python",
     "metadata": {},
     "outputs": [
      {
       "output_type": "stream",
       "stream": "stdout",
       "text": [
        "[[90  2]\n",
        " [12 39]]\n"
       ]
      },
      {
       "metadata": {},
       "output_type": "display_data",
       "png": "[encoded data removed]",
       "text": [
        "<matplotlib.figure.Figure at 0x1b04d630>"
       ]
      }
     ],
     "prompt_number": 472
    },
    {
     "cell_type": "heading",
     "level": 6,
     "metadata": {},
     "source": [
      "Generalized Linear Models"
     ]
    },
    {
     "cell_type": "raw",
     "metadata": {},
     "source": [
      "For linear models, we will have to first normalize the data as the difference in some of our variables are more than a hundred fold. For this we will use the Sklearn Standard Scaler"
     ]
    },
    {
     "cell_type": "code",
     "collapsed": false,
     "input": [
      "#print X_test[:1,]\n",
      "scalerX = StandardScaler().fit(X_train)\n",
      "X_train = scalerX.transform(X_train)\n",
      "X_test = scalerX.transform(X_test)\n"
     ],
     "language": "python",
     "metadata": {},
     "outputs": [],
     "prompt_number": 473
    },
    {
     "cell_type": "code",
     "collapsed": false,
     "input": [
      "clf = linear_model.SGDClassifier(loss='log', penalty='l2', random_state=42)\n",
      "\n",
      "clf.fit(X_train, y_train)\n",
      "y_pred = clf.predict(X_test)\n",
      "print (\"*****************************************************\\n\")\n",
      "print (\"Classification Report SGDClassifier Classifier\\n\")\n",
      "print classification_report(y_test, y_pred, target_names = target_names)\n",
      "print (\"Confusion Matrix Report - SGDClassifier Classifier\\n\")\n",
      "print confusion_matrix(y_test, y_pred) \n",
      "y_pred = np.array(y_pred)\n",
      "y_test = np.array(y_test)\n",
      "plt.scatter(x, (y_pred - y_test))\n",
      "plt.show()\n",
      "\n"
     ],
     "language": "python",
     "metadata": {},
     "outputs": [
      {
       "output_type": "stream",
       "stream": "stdout",
       "text": [
        "*****************************************************\n",
        "\n",
        "Classification Report SGDClassifier Classifier\n",
        "\n",
        "             precision    recall  f1-score   support\n",
        "\n",
        "     benign       0.98      0.99      0.98        92\n",
        "  malignant       0.98      0.96      0.97        51\n",
        "\n",
        "avg / total       0.98      0.98      0.98       143\n",
        "\n",
        "Confusion Matrix Report - SGDClassifier Classifier\n",
        "\n",
        "[[91  1]\n",
        " [ 2 49]]\n"
       ]
      },
      {
       "metadata": {},
       "output_type": "display_data",
       "png": "[encoded data removed]",
       "text": [
        "<matplotlib.figure.Figure at 0x1a6023c8>"
       ]
      }
     ],
     "prompt_number": 474
    },
    {
     "cell_type": "code",
     "collapsed": false,
     "input": [
      "clf = linear_model.LogisticRegression(penalty='l2', dual=False, tol=0.0001, C=1.0, fit_intercept=True, intercept_scaling=1, class_weight=None, random_state=None)\n",
      "\n",
      "clf.fit(X_train, y_train)\n",
      "y_pred = clf.predict(X_test)\n",
      "print (\"*****************************************************\\n\")\n",
      "print (\"Classification Report LogisticRegression Classifier\\n\")\n",
      "print classification_report(y_test, y_pred, target_names = target_names)\n",
      "print (\"Confusion Matrix Report - LogisticRegression Classifier\\n\")\n",
      "print confusion_matrix(y_test, y_pred) \n",
      "y_pred = np.array(y_pred)\n",
      "y_test = np.array(y_test)\n",
      "plt.scatter(x, (y_pred - y_test))\n",
      "plt.show()\n"
     ],
     "language": "python",
     "metadata": {},
     "outputs": [
      {
       "output_type": "stream",
       "stream": "stdout",
       "text": [
        "*****************************************************\n",
        "\n",
        "Classification Report LogisticRegression Classifier\n",
        "\n",
        "             precision    recall  f1-score   support\n",
        "\n",
        "     benign       1.00      1.00      1.00        92\n",
        "  malignant       1.00      1.00      1.00        51\n",
        "\n",
        "avg / total       1.00      1.00      1.00       143\n",
        "\n",
        "Confusion Matrix Report - LogisticRegression Classifier\n",
        "\n",
        "[[92  0]\n",
        " [ 0 51]]\n"
       ]
      },
      {
       "metadata": {},
       "output_type": "display_data",
       "png": "[encoded data removed]",
       "text": [
        "<matplotlib.figure.Figure at 0x1697b668>"
       ]
      }
     ],
     "prompt_number": 475
    },
    {
     "cell_type": "heading",
     "level": 6,
     "metadata": {},
     "source": [
      "Results"
     ]
    },
    {
     "cell_type": "markdown",
     "metadata": {},
     "source": [
      "In terms of absolute results, the Random Forest Classfier gives the best overall results in terms of both the classification report and the confusion matrix, taking into consideration that we wish to minimize missing labeling of malignant tumors as benign. Logistic Regression gives the next best result, with the other classifier falling far behind.\n",
      "\n",
      "It is important to note however, that these results will vary depending on the training dataset that is used (the number of true and false labels in the set). To actually determine which is best one would have to draw an ROC with different numbers of labels in the training set, which is far beyond the scope of this project"
     ]
    },
    {
     "cell_type": "heading",
     "level": 6,
     "metadata": {},
     "source": [
      "Discussion"
     ]
    },
    {
     "cell_type": "markdown",
     "metadata": {},
     "source": [
      "This project seeks to demonstrate Machine Learning with the use of the Sklearn Package in Python. The dataset used was obtained from UCI and contained information on approximately 700 patients with a diagnosis of breast tumor (binary variable, malignant, benign) and 30 variables of interest that could be used to predict the diagnosis.\n",
      "Machine learning tools that were demonstrated include Decision Tree Classifier (using gini and entropy), Random Forests, K Nearest Neighbor, SGD Classifier and Logistic Regression.\n",
      "Outcome of these tools was documented using the confusion matrix, plot of predicted verses actual and classification report. \n",
      "Due to the fact that there were 30 different variables, it was not possible to demonstrate the interactions of these variables graphically, and even a simple confusion matrix plot could not show much information, because of the extremely high precision and recall with the use of these algorithms. \n",
      "Decision trees as compared to all the other tools in machine learning are quite easy to understand, and in fact are quite easy of the individual to use manually if the decision tree is graphed. A graph of one of the possible decision trees is included in the project.\n",
      "Precision \u2013 defined as True Positive / True Positive + False Positive and \n",
      "Recall True Positive / True Positive + False Negative are two of the most commonly used metrics to determine how accurate a machine learning tool is.\n",
      "However, in determining which tool, and which metric to use, it is important to understand the domain that the tool is going to be used in. This is important because when time is of the essence having a machine learning tool that is very fast, but may not be as accurate is of much more importance.\n",
      "In this particular domain \u2013 predicting if a tumor is benign or malignant, the speed of the machine learning algorithm is not critical; however, the specificity of the prediction is much more important. If for example, the patient has a malignant tumor, we would hope that this is predicted 100% by the algorithm. False positive predictions of patients having a malignant tumor when then do not have one, is quite acceptable, however false negatives are not acceptable. This is because the cost of failure to accurately diagnose a malignant tumor far outweighs the cost of wronging diagnosing a benign tumor as malignant.\n",
      "Due to this fact, in looking at the outcomes of the various machine learning algorithms, and the graphs, a score of -1 (predicted \u2013 actual, with malignant scored 1 and benign scored 0), indicates that the classifier tool wrongly classified a malignant tumor as benign. A simple count of this therefore indicates how good the tool is as compared to other classifiers, and in this particular domain, is the preferred metric used."
     ]
    },
    {
     "cell_type": "heading",
     "level": 6,
     "metadata": {},
     "source": [
      "Limitations"
     ]
    },
    {
     "cell_type": "markdown",
     "metadata": {},
     "source": [
      "It was not possible to create the decision tree graphs in real time. Pydot which is used to create the graphs with graphviz to convert the created graph to png format have issues with their installation. Pydot is not available for 64 bit Windows, while graphviz has installation and path problems, which require a registry hack. The included graph was created locally and stored and then converted manually using graphviz.\n",
      "This project did not delve into optimization of the different classifiers, which was beyond the scope of this project. It is possible for example to inform the classifier to optimize the outcome of one of the labels, in this case \u2013 the malignant label. At present both labels are scored equally."
     ]
    },
    {
     "cell_type": "heading",
     "level": 6,
     "metadata": {},
     "source": [
      "Conclusion"
     ]
    },
    {
     "cell_type": "markdown",
     "metadata": {},
     "source": [
      "This project demonstrates using a publicly available dataset, machine learning using Python, with the use of the Sklearn module."
     ]
    },
    {
     "cell_type": "heading",
     "level": 6,
     "metadata": {},
     "source": [
      "References"
     ]
    },
    {
     "cell_type": "markdown",
     "metadata": {},
     "source": [
      "Sklearn. http://scikit-learn.org/stable/\n",
      "Garreta, R., & Moncecchi, G. (2013). Learning scikit-learn: Machine Learning in Python. Packt Publishing.\n",
      "\n",
      "Hackeling, G. (2014). Mastering Machine Learning with scikit-learn. Packt Publishing.\n",
      "\n",
      "Richert, W., & Coelho, L. P. (2013). Building Machine Learning Systems with Python. Packt Publishing.\n",
      "\n",
      "Idris, I. (2014). Python Data Analysis. Packt Publishing."
     ]
    }
   ],
   "metadata": {}
  }
 ]
}